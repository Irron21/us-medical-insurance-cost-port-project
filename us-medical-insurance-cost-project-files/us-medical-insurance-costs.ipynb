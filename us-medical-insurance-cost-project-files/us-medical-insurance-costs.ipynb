{
 "cells": [
  {
   "cell_type": "markdown",
   "metadata": {},
   "source": [
    "# U.S. Medical Insurance Costs"
   ]
  },
  {
   "cell_type": "code",
   "execution_count": 1,
   "metadata": {},
   "outputs": [],
   "source": [
    "import csv\n",
    "\n",
    "with open('insurance.csv') as insurance_csv:\n",
    "    insurance_reader = csv.DictReader(insurance_csv)\n",
    "    rowcount = 0\n",
    "    dictionary_data = {}\n",
    "    for row in insurance_reader:\n",
    "        rowcount += 1\n",
    "        dictionary_data[rowcount] = row\n"
   ]
  },
  {
   "cell_type": "code",
   "execution_count": 2,
   "metadata": {},
   "outputs": [
    {
     "name": "stdout",
     "output_type": "stream",
     "text": [
      "The average age in the dataset is: 39\n",
      "The average bmi in the dataset is: 30.663396860986538\n"
     ]
    }
   ],
   "source": [
    "# a function to get the average of a numerical variable\n",
    "def get_average(var):\n",
    "    total = 0\n",
    "    for values in dictionary_data.values():\n",
    "        float_conversion = float(values[var])\n",
    "        total += float_conversion\n",
    "    average = total / len(dictionary_data)\n",
    "    return average\n",
    "    \n",
    "age_average = int(get_average(\"age\"))\n",
    "print(\"The average age in the dataset is: \" + str(age_average))\n",
    "bmi_average = get_average(\"bmi\")\n",
    "print(\"The average bmi in the dataset is: \" + str(bmi_average))"
   ]
  },
  {
   "cell_type": "code",
   "execution_count": 3,
   "metadata": {},
   "outputs": [
    {
     "name": "stdout",
     "output_type": "stream",
     "text": [
      "{'southwest': 325, 'southeast': 364, 'northwest': 325, 'northeast': 324}\n",
      "The majority of the individuals are from southeast with the count of 364\n"
     ]
    }
   ],
   "source": [
    "# a function to count the frequency of each region that appeared in the dataset + where a majority of the individuals are from\n",
    "region_count = {}\n",
    "def region_frq(var):\n",
    "    for values in dictionary_data.values():\n",
    "        region = values[var]\n",
    "        if region in region_count:\n",
    "            region_count[region] += 1\n",
    "        else:\n",
    "             region_count[region] = 1\n",
    "    return region_count\n",
    "\n",
    "print(region_frq(\"region\"))\n",
    "max_frq_region_key = max(region_count, key=region_count.get)\n",
    "print(\"The majority of the individuals are from the \" + max_frq_region_key+ \" with the count of \" + str(max(region_count.values())))"
   ]
  },
  {
   "cell_type": "code",
   "execution_count": 20,
   "metadata": {},
   "outputs": [
    {
     "name": "stdout",
     "output_type": "stream",
     "text": [
      "{'yes': 8764878.59784, 'no': 8972335.916618997}\n",
      "The difference cost between a smoker and a non-smoker is: $207457.3187789973\n"
     ]
    }
   ],
   "source": [
    "# a function to sum the total charge between 2 smoker categories + find its difference\n",
    "total_cost_smoker = {}\n",
    "def smoker_cost_difference(var1, var2):\n",
    "    for values in dictionary_data.values():\n",
    "        smoker = values[var1]\n",
    "        cost = values[var2]\n",
    "        if smoker in total_cost_smoker:\n",
    "            total_cost_smoker[smoker] += float(cost)\n",
    "        else:\n",
    "            total_cost_smoker[smoker] = 0\n",
    "    return str(total_cost_smoker)\n",
    "\n",
    "print(smoker_cost_difference(\"smoker\", \"charges\"))\n",
    "charge_difference_smoker = total_cost_smoker[\"no\"] - total_cost_smoker[\"yes\"]\n",
    "print(\"The difference cost between a smoker and a non-smoker is: $\" + str(charge_difference_smoker))"
   ]
  },
  {
   "cell_type": "code",
   "execution_count": 5,
   "metadata": {},
   "outputs": [
    {
     "name": "stdout",
     "output_type": "stream",
     "text": [
      "39 is the average age for individuals that has atleast 1 children\n"
     ]
    }
   ],
   "source": [
    "def avg_age_w_child(var1, var2):\n",
    "    total_age = 0\n",
    "    length = 0\n",
    "    for values in dictionary_data.values():\n",
    "        age = int(values[var1])\n",
    "        children = int(values[var2])\n",
    "        if children >= 1:\n",
    "            total_age += age\n",
    "            length += 1\n",
    "        else:\n",
    "            total_age += 0\n",
    "    avg_age = total_age / length\n",
    "    return total_age, int(avg_age)\n",
    "\n",
    "total_age, avg_age = avg_age_w_child(\"age\", \"children\")\n",
    "print(str(avg_age) + \" is the average age for individuals that has atleast 1 children\")"
   ]
  }
 ],
 "metadata": {
  "kernelspec": {
   "display_name": "Python 3",
   "language": "python",
   "name": "python3"
  },
  "language_info": {
   "codemirror_mode": {
    "name": "ipython",
    "version": 3
   },
   "file_extension": ".py",
   "mimetype": "text/x-python",
   "name": "python",
   "nbconvert_exporter": "python",
   "pygments_lexer": "ipython3",
   "version": "3.11.1"
  }
 },
 "nbformat": 4,
 "nbformat_minor": 4
}
